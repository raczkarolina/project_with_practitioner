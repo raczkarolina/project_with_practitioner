{
  "nbformat": 4,
  "nbformat_minor": 0,
  "metadata": {
    "colab": {
      "name": "arima.ipynb",
      "provenance": []
    },
    "kernelspec": {
      "name": "python3",
      "display_name": "Python 3"
    },
    "language_info": {
      "name": "python"
    }
  },
  "cells": [
    {
      "cell_type": "code",
      "source": [
        "pip install pmdarima"
      ],
      "metadata": {
        "colab": {
          "base_uri": "https://localhost:8080/"
        },
        "id": "LuZ8piZdh771",
        "outputId": "eb86f15a-491b-46c8-e7ea-40824758e65d"
      },
      "execution_count": null,
      "outputs": [
        {
          "output_type": "stream",
          "name": "stdout",
          "text": [
            "Requirement already satisfied: pmdarima in /usr/local/lib/python3.7/dist-packages (1.8.4)\n",
            "Requirement already satisfied: statsmodels!=0.12.0,>=0.11 in /usr/local/lib/python3.7/dist-packages (from pmdarima) (0.13.1)\n",
            "Requirement already satisfied: urllib3 in /usr/local/lib/python3.7/dist-packages (from pmdarima) (1.24.3)\n",
            "Requirement already satisfied: setuptools!=50.0.0,>=38.6.0 in /usr/local/lib/python3.7/dist-packages (from pmdarima) (57.4.0)\n",
            "Requirement already satisfied: scipy>=1.3.2 in /usr/local/lib/python3.7/dist-packages (from pmdarima) (1.4.1)\n",
            "Requirement already satisfied: scikit-learn>=0.22 in /usr/local/lib/python3.7/dist-packages (from pmdarima) (1.0.1)\n",
            "Requirement already satisfied: pandas>=0.19 in /usr/local/lib/python3.7/dist-packages (from pmdarima) (1.1.5)\n",
            "Requirement already satisfied: numpy>=1.19.3 in /usr/local/lib/python3.7/dist-packages (from pmdarima) (1.19.5)\n",
            "Requirement already satisfied: Cython!=0.29.18,>=0.29 in /usr/local/lib/python3.7/dist-packages (from pmdarima) (0.29.24)\n",
            "Requirement already satisfied: joblib>=0.11 in /usr/local/lib/python3.7/dist-packages (from pmdarima) (1.1.0)\n",
            "Requirement already satisfied: python-dateutil>=2.7.3 in /usr/local/lib/python3.7/dist-packages (from pandas>=0.19->pmdarima) (2.8.2)\n",
            "Requirement already satisfied: pytz>=2017.2 in /usr/local/lib/python3.7/dist-packages (from pandas>=0.19->pmdarima) (2018.9)\n",
            "Requirement already satisfied: six>=1.5 in /usr/local/lib/python3.7/dist-packages (from python-dateutil>=2.7.3->pandas>=0.19->pmdarima) (1.15.0)\n",
            "Requirement already satisfied: threadpoolctl>=2.0.0 in /usr/local/lib/python3.7/dist-packages (from scikit-learn>=0.22->pmdarima) (3.0.0)\n",
            "Requirement already satisfied: patsy>=0.5.2 in /usr/local/lib/python3.7/dist-packages (from statsmodels!=0.12.0,>=0.11->pmdarima) (0.5.2)\n"
          ]
        }
      ]
    },
    {
      "cell_type": "code",
      "execution_count": 175,
      "metadata": {
        "id": "SCqzxCbRRupf"
      },
      "outputs": [],
      "source": [
        "import pandas as pd\n",
        "import numpy as np"
      ]
    },
    {
      "cell_type": "code",
      "source": [
        "df = pd.read_csv(\"dane_out_2016_2020.csv\", index_col='data',parse_dates=True)\n",
        "df=df.dropna()\n",
        "print('Rozmiar danych',df.shape)\n",
        "print(df.head())\n",
        "print(df.tail())"
      ],
      "metadata": {
        "id": "cgRTNIFPSU4L",
        "colab": {
          "base_uri": "https://localhost:8080/"
        },
        "outputId": "ee7e9694-4b7e-4f35-edb8-586f16acb275"
      },
      "execution_count": 196,
      "outputs": [
        {
          "output_type": "stream",
          "name": "stdout",
          "text": [
            "Rozmiar danych (43000, 18)\n",
            "            godzina  temperatura_powietrza  ...  NOx_Bujaka  NOx_Bulwarowa\n",
            "data                                        ...                           \n",
            "2016-01-01  0:00:00              -8.871667  ...   92.960271      63.097419\n",
            "2016-01-01  1:00:00              -9.153333  ...  289.800000     135.551000\n",
            "2016-01-01  2:00:00              -9.475000  ...  291.100000     137.275000\n",
            "2016-01-01  3:00:00              -9.851667  ...  192.400000     118.484000\n",
            "2016-01-01  4:00:00             -10.175000  ...  301.900000     101.397000\n",
            "\n",
            "[5 rows x 18 columns]\n",
            "             godzina  temperatura_powietrza  ...  NOx_Bujaka  NOx_Bulwarowa\n",
            "data                                         ...                           \n",
            "2020-12-31  19:00:00               2.685000  ...         0.0      63.097419\n",
            "2020-12-31  20:00:00               2.223333  ...         0.0      63.097419\n",
            "2020-12-31  21:00:00               2.208333  ...         0.0      63.097419\n",
            "2020-12-31  22:00:00              10.416666  ...         0.0      63.097419\n",
            "2020-12-31  23:00:00              10.416666  ...         0.0      63.097419\n",
            "\n",
            "[5 rows x 18 columns]\n"
          ]
        }
      ]
    },
    {
      "cell_type": "code",
      "source": [
        "df['PM10_Al_Krasińskiego'].plot(figsize=(12,5), color=\"orange\")"
      ],
      "metadata": {
        "colab": {
          "base_uri": "https://localhost:8080/",
          "height": 335
        },
        "id": "qYzQLxANSfu7",
        "outputId": "347742c0-b4ca-4eaf-c1f8-2d45723874d1"
      },
      "execution_count": 197,
      "outputs": [
        {
          "output_type": "execute_result",
          "data": {
            "text/plain": [
              "<matplotlib.axes._subplots.AxesSubplot at 0x7fe9a84063d0>"
            ]
          },
          "metadata": {},
          "execution_count": 197
        },
        {
          "output_type": "display_data",
          "data": {
            "image/png": "[encoded data removed]",
            "text/plain": [
              "<Figure size 864x360 with 1 Axes>"
            ]
          },
          "metadata": {
            "needs_background": "light"
          }
        }
      ]
    },
    {
      "cell_type": "code",
      "source": [
        "from statsmodels.tsa.stattools import adfuller\n",
        "\n",
        "def ad_test(dataset):\n",
        "    dftest = adfuller(dataset, autolag='AIC')\n",
        "    print(\"1. ADF : \", dftest[0])\n",
        "    print(\"2. P-Value : \", dftest[1])\n",
        "    print(\"3. Num Of Lags : \", dftest[2])\n",
        "    print(\"4. Num Of Observations Used For ADF Regression:\", dftest[3])\n",
        "    print(\"5. Critical Values :\")\n",
        "    for key, val in dftest[4].items():\n",
        "        print(\"\\t\", key, \": \", val)\n",
        "ad_test(df['PM10_Al_Krasińskiego'])"
      ],
      "metadata": {
        "colab": {
          "base_uri": "https://localhost:8080/"
        },
        "id": "b4vuavccSkNH",
        "outputId": "3e579b4e-67ef-4768-9e6b-65e2037370cd"
      },
      "execution_count": 198,
      "outputs": [
        {
          "output_type": "stream",
          "name": "stdout",
          "text": [
            "1. ADF :  -14.914375291462912\n",
            "2. P-Value :  1.442535245534364e-27\n",
            "3. Num Of Lags :  50\n",
            "4. Num Of Observations Used For ADF Regression: 42949\n",
            "5. Critical Values :\n",
            "\t 1% :  -3.4305022664294555\n",
            "\t 5% :  -2.8616072983912026\n",
            "\t 10% :  -2.5668058207502655\n"
          ]
        }
      ]
    },
    {
      "cell_type": "code",
      "source": [
        "from pmdarima import auto_arima\n",
        "import warnings\n",
        "warnings.filterwarnings(\"ignore\")"
      ],
      "metadata": {
        "id": "ULuOMv_CTaCc"
      },
      "execution_count": 199,
      "outputs": []
    },
    {
      "cell_type": "code",
      "source": [
        "stepwise_fit = auto_arima(df['PM10_Al_Krasińskiego'], trace=True, suppress_warnings=True)\n",
        "\n",
        "stepwise_fit.summary()"
      ],
      "metadata": {
        "colab": {
          "base_uri": "https://localhost:8080/",
          "height": 886
        },
        "id": "PF4mORCAlFgP",
        "outputId": "10208d49-3077-4ddf-adcc-0959cb587bad"
      },
      "execution_count": 200,
      "outputs": [
        {
          "output_type": "stream",
          "name": "stdout",
          "text": [
            "Performing stepwise search to minimize aic\n",
            " ARIMA(2,1,2)(0,0,0)[0] intercept   : AIC=346360.882, Time=20.82 sec\n",
            " ARIMA(0,1,0)(0,0,0)[0] intercept   : AIC=348209.602, Time=1.10 sec\n",
            " ARIMA(1,1,0)(0,0,0)[0] intercept   : AIC=347965.942, Time=4.65 sec\n",
            " ARIMA(0,1,1)(0,0,0)[0] intercept   : AIC=347940.195, Time=6.61 sec\n",
            " ARIMA(0,1,0)(0,0,0)[0]             : AIC=348207.602, Time=0.46 sec\n",
            " ARIMA(1,1,2)(0,0,0)[0] intercept   : AIC=inf, Time=25.20 sec\n",
            " ARIMA(2,1,1)(0,0,0)[0] intercept   : AIC=346343.379, Time=33.04 sec\n",
            " ARIMA(1,1,1)(0,0,0)[0] intercept   : AIC=346360.354, Time=23.47 sec\n",
            " ARIMA(2,1,0)(0,0,0)[0] intercept   : AIC=347872.868, Time=9.12 sec\n",
            " ARIMA(3,1,1)(0,0,0)[0] intercept   : AIC=346345.228, Time=37.81 sec\n",
            " ARIMA(3,1,0)(0,0,0)[0] intercept   : AIC=347808.193, Time=12.25 sec\n",
            " ARIMA(3,1,2)(0,0,0)[0] intercept   : AIC=346347.321, Time=57.92 sec\n",
            " ARIMA(2,1,1)(0,0,0)[0]             : AIC=346341.411, Time=10.03 sec\n",
            " ARIMA(1,1,1)(0,0,0)[0]             : AIC=346358.377, Time=6.03 sec\n",
            " ARIMA(2,1,0)(0,0,0)[0]             : AIC=347870.867, Time=4.03 sec\n",
            " ARIMA(3,1,1)(0,0,0)[0]             : AIC=346343.248, Time=18.14 sec\n",
            " ARIMA(2,1,2)(0,0,0)[0]             : AIC=346358.849, Time=6.92 sec\n",
            " ARIMA(1,1,0)(0,0,0)[0]             : AIC=347963.941, Time=1.25 sec\n",
            " ARIMA(1,1,2)(0,0,0)[0]             : AIC=inf, Time=7.51 sec\n",
            " ARIMA(3,1,0)(0,0,0)[0]             : AIC=347806.192, Time=5.39 sec\n",
            " ARIMA(3,1,2)(0,0,0)[0]             : AIC=346345.352, Time=18.10 sec\n",
            "\n",
            "Best model:  ARIMA(2,1,1)(0,0,0)[0]          \n",
            "Total fit time: 309.916 seconds\n"
          ]
        },
        {
          "output_type": "execute_result",
          "data": {
            "text/html": [
              "<table class=\"simpletable\">\n",
              "<caption>SARIMAX Results</caption>\n",
              "<tr>\n",
              "  <th>Dep. Variable:</th>           <td>y</td>        <th>  No. Observations:  </th>    <td>43000</td>   \n",
              "</tr>\n",
              "<tr>\n",
              "  <th>Model:</th>           <td>SARIMAX(2, 1, 1)</td> <th>  Log Likelihood     </th> <td>-173166.706</td>\n",
              "</tr>\n",
              "<tr>\n",
              "  <th>Date:</th>            <td>Wed, 05 Jan 2022</td> <th>  AIC                </th> <td>346341.411</td> \n",
              "</tr>\n",
              "<tr>\n",
              "  <th>Time:</th>                <td>15:32:47</td>     <th>  BIC                </th> <td>346376.087</td> \n",
              "</tr>\n",
              "<tr>\n",
              "  <th>Sample:</th>                  <td>0</td>        <th>  HQIC               </th> <td>346352.350</td> \n",
              "</tr>\n",
              "<tr>\n",
              "  <th></th>                     <td> - 43000</td>     <th>                     </th>      <td> </td>     \n",
              "</tr>\n",
              "<tr>\n",
              "  <th>Covariance Type:</th>        <td>opg</td>       <th>                     </th>      <td> </td>     \n",
              "</tr>\n",
              "</table>\n",
              "<table class=\"simpletable\">\n",
              "<tr>\n",
              "     <td></td>       <th>coef</th>     <th>std err</th>      <th>z</th>      <th>P>|z|</th>  <th>[0.025</th>    <th>0.975]</th>  \n",
              "</tr>\n",
              "<tr>\n",
              "  <th>ar.L1</th>  <td>    0.8703</td> <td>    0.002</td> <td>  497.366</td> <td> 0.000</td> <td>    0.867</td> <td>    0.874</td>\n",
              "</tr>\n",
              "<tr>\n",
              "  <th>ar.L2</th>  <td>    0.0231</td> <td>    0.002</td> <td>   11.422</td> <td> 0.000</td> <td>    0.019</td> <td>    0.027</td>\n",
              "</tr>\n",
              "<tr>\n",
              "  <th>ma.L1</th>  <td>   -0.9861</td> <td>    0.001</td> <td>-1323.860</td> <td> 0.000</td> <td>   -0.988</td> <td>   -0.985</td>\n",
              "</tr>\n",
              "<tr>\n",
              "  <th>sigma2</th> <td>  184.2976</td> <td>    0.368</td> <td>  501.385</td> <td> 0.000</td> <td>  183.577</td> <td>  185.018</td>\n",
              "</tr>\n",
              "</table>\n",
              "<table class=\"simpletable\">\n",
              "<tr>\n",
              "  <th>Ljung-Box (L1) (Q):</th>     <td>0.01</td> <th>  Jarque-Bera (JB):  </th> <td>884154.13</td>\n",
              "</tr>\n",
              "<tr>\n",
              "  <th>Prob(Q):</th>                <td>0.93</td> <th>  Prob(JB):          </th>   <td>0.00</td>   \n",
              "</tr>\n",
              "<tr>\n",
              "  <th>Heteroskedasticity (H):</th> <td>0.66</td> <th>  Skew:              </th>   <td>0.73</td>   \n",
              "</tr>\n",
              "<tr>\n",
              "  <th>Prob(H) (two-sided):</th>    <td>0.00</td> <th>  Kurtosis:          </th>   <td>25.17</td>  \n",
              "</tr>\n",
              "</table><br/><br/>Warnings:<br/>[1] Covariance matrix calculated using the outer product of gradients (complex-step)."
            ],
            "text/plain": [
              "<class 'statsmodels.iolib.summary.Summary'>\n",
              "\"\"\"\n",
              "                               SARIMAX Results                                \n",
              "==============================================================================\n",
              "Dep. Variable:                      y   No. Observations:                43000\n",
              "Model:               SARIMAX(2, 1, 1)   Log Likelihood             -173166.706\n",
              "Date:                Wed, 05 Jan 2022   AIC                         346341.411\n",
              "Time:                        15:32:47   BIC                         346376.087\n",
              "Sample:                             0   HQIC                        346352.350\n",
              "                              - 43000                                         \n",
              "Covariance Type:                  opg                                         \n",
              "==============================================================================\n",
              "                 coef    std err          z      P>|z|      [0.025      0.975]\n",
              "------------------------------------------------------------------------------\n",
              "ar.L1          0.8703      0.002    497.366      0.000       0.867       0.874\n",
              "ar.L2          0.0231      0.002     11.422      0.000       0.019       0.027\n",
              "ma.L1         -0.9861      0.001  -1323.860      0.000      -0.988      -0.985\n",
              "sigma2       184.2976      0.368    501.385      0.000     183.577     185.018\n",
              "===================================================================================\n",
              "Ljung-Box (L1) (Q):                   0.01   Jarque-Bera (JB):            884154.13\n",
              "Prob(Q):                              0.93   Prob(JB):                         0.00\n",
              "Heteroskedasticity (H):               0.66   Skew:                             0.73\n",
              "Prob(H) (two-sided):                  0.00   Kurtosis:                        25.17\n",
              "===================================================================================\n",
              "\n",
              "Warnings:\n",
              "[1] Covariance matrix calculated using the outer product of gradients (complex-step).\n",
              "\"\"\""
            ]
          },
          "metadata": {},
          "execution_count": 200
        }
      ]
    },
    {
      "cell_type": "code",
      "source": [
        "print(df.shape)\n",
        "train=df.iloc[:-30]\n",
        "test=df.iloc[-30:]\n",
        "print(train.shape,test.shape)\n",
        "#print(train)"
      ],
      "metadata": {
        "colab": {
          "base_uri": "https://localhost:8080/"
        },
        "id": "3aKhYZqbTr3m",
        "outputId": "d0bba3be-443a-4b50-d566-d0c027cd51f5"
      },
      "execution_count": 238,
      "outputs": [
        {
          "output_type": "stream",
          "name": "stdout",
          "text": [
            "(43000, 18)\n",
            "(42970, 18) (30, 18)\n"
          ]
        }
      ]
    },
    {
      "cell_type": "code",
      "source": [
        "import warnings\n",
        "warnings.filterwarnings(\"ignore\")\n",
        "from statsmodels.tsa.arima.model import ARIMA"
      ],
      "metadata": {
        "id": "5peYLoTiTsBp"
      },
      "execution_count": 202,
      "outputs": []
    },
    {
      "cell_type": "code",
      "source": [
        "model=ARIMA(df['PM10_Al_Krasińskiego'],order=(2,1,1))\n",
        "model=model.fit()\n",
        "model.summary()"
      ],
      "metadata": {
        "colab": {
          "base_uri": "https://localhost:8080/",
          "height": 452
        },
        "id": "IXSEW6p9WMMn",
        "outputId": "66895e88-b0d6-44c3-d3fd-84955f965b1c"
      },
      "execution_count": 239,
      "outputs": [
        {
          "output_type": "execute_result",
          "data": {
            "text/html": [
              "<table class=\"simpletable\">\n",
              "<caption>SARIMAX Results</caption>\n",
              "<tr>\n",
              "  <th>Dep. Variable:</th>   <td>PM10_Al_Krasińskiego</td> <th>  No. Observations:  </th>    <td>43000</td>   \n",
              "</tr>\n",
              "<tr>\n",
              "  <th>Model:</th>              <td>ARIMA(2, 1, 1)</td>    <th>  Log Likelihood     </th> <td>-173166.706</td>\n",
              "</tr>\n",
              "<tr>\n",
              "  <th>Date:</th>              <td>Wed, 05 Jan 2022</td>   <th>  AIC                </th> <td>346341.411</td> \n",
              "</tr>\n",
              "<tr>\n",
              "  <th>Time:</th>                  <td>15:44:12</td>       <th>  BIC                </th> <td>346376.087</td> \n",
              "</tr>\n",
              "<tr>\n",
              "  <th>Sample:</th>                    <td>0</td>          <th>  HQIC               </th> <td>346352.350</td> \n",
              "</tr>\n",
              "<tr>\n",
              "  <th></th>                       <td> - 43000</td>       <th>                     </th>      <td> </td>     \n",
              "</tr>\n",
              "<tr>\n",
              "  <th>Covariance Type:</th>          <td>opg</td>         <th>                     </th>      <td> </td>     \n",
              "</tr>\n",
              "</table>\n",
              "<table class=\"simpletable\">\n",
              "<tr>\n",
              "     <td></td>       <th>coef</th>     <th>std err</th>      <th>z</th>      <th>P>|z|</th>  <th>[0.025</th>    <th>0.975]</th>  \n",
              "</tr>\n",
              "<tr>\n",
              "  <th>ar.L1</th>  <td>    0.8703</td> <td>    0.002</td> <td>  497.366</td> <td> 0.000</td> <td>    0.867</td> <td>    0.874</td>\n",
              "</tr>\n",
              "<tr>\n",
              "  <th>ar.L2</th>  <td>    0.0231</td> <td>    0.002</td> <td>   11.422</td> <td> 0.000</td> <td>    0.019</td> <td>    0.027</td>\n",
              "</tr>\n",
              "<tr>\n",
              "  <th>ma.L1</th>  <td>   -0.9861</td> <td>    0.001</td> <td>-1323.860</td> <td> 0.000</td> <td>   -0.988</td> <td>   -0.985</td>\n",
              "</tr>\n",
              "<tr>\n",
              "  <th>sigma2</th> <td>  184.2976</td> <td>    0.368</td> <td>  501.385</td> <td> 0.000</td> <td>  183.577</td> <td>  185.018</td>\n",
              "</tr>\n",
              "</table>\n",
              "<table class=\"simpletable\">\n",
              "<tr>\n",
              "  <th>Ljung-Box (L1) (Q):</th>     <td>0.01</td> <th>  Jarque-Bera (JB):  </th> <td>884154.13</td>\n",
              "</tr>\n",
              "<tr>\n",
              "  <th>Prob(Q):</th>                <td>0.93</td> <th>  Prob(JB):          </th>   <td>0.00</td>   \n",
              "</tr>\n",
              "<tr>\n",
              "  <th>Heteroskedasticity (H):</th> <td>0.66</td> <th>  Skew:              </th>   <td>0.73</td>   \n",
              "</tr>\n",
              "<tr>\n",
              "  <th>Prob(H) (two-sided):</th>    <td>0.00</td> <th>  Kurtosis:          </th>   <td>25.17</td>  \n",
              "</tr>\n",
              "</table><br/><br/>Warnings:<br/>[1] Covariance matrix calculated using the outer product of gradients (complex-step)."
            ],
            "text/plain": [
              "<class 'statsmodels.iolib.summary.Summary'>\n",
              "\"\"\"\n",
              "                                SARIMAX Results                                 \n",
              "================================================================================\n",
              "Dep. Variable:     PM10_Al_Krasińskiego   No. Observations:                43000\n",
              "Model:                   ARIMA(2, 1, 1)   Log Likelihood             -173166.706\n",
              "Date:                  Wed, 05 Jan 2022   AIC                         346341.411\n",
              "Time:                          15:44:12   BIC                         346376.087\n",
              "Sample:                               0   HQIC                        346352.350\n",
              "                                - 43000                                         \n",
              "Covariance Type:                    opg                                         \n",
              "==============================================================================\n",
              "                 coef    std err          z      P>|z|      [0.025      0.975]\n",
              "------------------------------------------------------------------------------\n",
              "ar.L1          0.8703      0.002    497.366      0.000       0.867       0.874\n",
              "ar.L2          0.0231      0.002     11.422      0.000       0.019       0.027\n",
              "ma.L1         -0.9861      0.001  -1323.860      0.000      -0.988      -0.985\n",
              "sigma2       184.2976      0.368    501.385      0.000     183.577     185.018\n",
              "===================================================================================\n",
              "Ljung-Box (L1) (Q):                   0.01   Jarque-Bera (JB):            884154.13\n",
              "Prob(Q):                              0.93   Prob(JB):                         0.00\n",
              "Heteroskedasticity (H):               0.66   Skew:                             0.73\n",
              "Prob(H) (two-sided):                  0.00   Kurtosis:                        25.17\n",
              "===================================================================================\n",
              "\n",
              "Warnings:\n",
              "[1] Covariance matrix calculated using the outer product of gradients (complex-step).\n",
              "\"\"\""
            ]
          },
          "metadata": {},
          "execution_count": 239
        }
      ]
    },
    {
      "cell_type": "code",
      "source": [
        "start=len(train)\n",
        "end=len(train)+len(test)-1\n",
        "pred=model.predict(start=start,end=end,typ='levels').rename('ARIMA Predictions')\n",
        "#print(pred)\n",
        "pred.index=df.index[start:end+1]\n",
        "print(pred.head())"
      ],
      "metadata": {
        "colab": {
          "base_uri": "https://localhost:8080/"
        },
        "id": "TO5Rd59QafZU",
        "outputId": "a97886d8-0bb2-4cd2-9b8d-27b61cd6c8ae"
      },
      "execution_count": 240,
      "outputs": [
        {
          "output_type": "stream",
          "name": "stdout",
          "text": [
            "data\n",
            "2020-12-30    55.554040\n",
            "2020-12-30    57.374704\n",
            "2020-12-30    66.794345\n",
            "2020-12-30    72.103802\n",
            "2020-12-30    67.933763\n",
            "Name: ARIMA Predictions, dtype: float64\n"
          ]
        }
      ]
    },
    {
      "cell_type": "code",
      "source": [
        "pred.plot(legend=True)\n",
        "test['PM10_Al_Krasińskiego'].plot(legend=True)"
      ],
      "metadata": {
        "colab": {
          "base_uri": "https://localhost:8080/",
          "height": 296
        },
        "id": "x8i24LAHcI7d",
        "outputId": "69d431b3-0676-4754-80f4-b9d1f9c7e821"
      },
      "execution_count": 245,
      "outputs": [
        {
          "output_type": "execute_result",
          "data": {
            "text/plain": [
              "<matplotlib.axes._subplots.AxesSubplot at 0x7fe9a7b79710>"
            ]
          },
          "metadata": {},
          "execution_count": 245
        },
        {
          "output_type": "display_data",
          "data": {
            "image/png": "[encoded data removed]",
            "text/plain": [
              "<Figure size 432x288 with 1 Axes>"
            ]
          },
          "metadata": {
            "needs_background": "light"
          }
        }
      ]
    },
    {
      "cell_type": "code",
      "source": [
        "test['PM10_Al_Krasińskiego'].mean()"
      ],
      "metadata": {
        "colab": {
          "base_uri": "https://localhost:8080/"
        },
        "id": "MQyoocQLhWHP",
        "outputId": "1f2bde14-3b2f-4408-f93c-38eb7f888a8b"
      },
      "execution_count": 242,
      "outputs": [
        {
          "output_type": "execute_result",
          "data": {
            "text/plain": [
              "59.565181785657366"
            ]
          },
          "metadata": {},
          "execution_count": 242
        }
      ]
    },
    {
      "cell_type": "code",
      "source": [
        "from sklearn.metrics import mean_squared_error\n",
        "from math import sqrt\n",
        "test['PM10_Al_Krasińskiego'].mean()\n",
        "rmse=sqrt(mean_squared_error(pred,test['PM10_Al_Krasińskiego']))\n",
        "print(rmse)"
      ],
      "metadata": {
        "colab": {
          "base_uri": "https://localhost:8080/"
        },
        "id": "7kuvMxH2hhQY",
        "outputId": "b6eb304e-4908-4448-8fef-2698d8318c1a"
      },
      "execution_count": 243,
      "outputs": [
        {
          "output_type": "stream",
          "name": "stdout",
          "text": [
            "8.464741881427383\n"
          ]
        }
      ]
    }
  ]
}